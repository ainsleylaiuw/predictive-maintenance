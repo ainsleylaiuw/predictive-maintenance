{
 "cells": [
  {
   "cell_type": "markdown",
   "metadata": {},
   "source": [
    "# Feature Engineering\n",
    "\n",
    "This notebook covers the feature engineering process of this project\n",
    "\n",
    "In this notebook, we:\n",
    "\n",
    "1. define target variables\n",
    "    1. Create a new feature that notes if a failure occurs in the future\n",
    "    2. Expand feature to 4 columns so we can observe which specific component fails\n",
    "2. Create features from telemetry data"
   ]
  },
  {
   "cell_type": "code",
   "execution_count": null,
   "metadata": {},
   "outputs": [],
   "source": [
    "import pandas as pd\n",
    "import numpy as np\n",
    "import matplotlib.pyplot as plt\n",
    "import seaborn as sns\n",
    "errors = pd.read_csv('data/PdM_errors.csv')\n",
    "failures = pd.read_csv('data/PdM_failures.csv')\n",
    "machines = pd.read_csv('data/PdM_machines.csv')\n",
    "maint = pd.read_csv('data/PdM_maint.csv')\n",
    "telemetry = pd.read_csv('data/PdM_telemetry.csv')"
   ]
  }
 ],
 "metadata": {
  "language_info": {
   "name": "python"
  },
  "orig_nbformat": 4
 },
 "nbformat": 4,
 "nbformat_minor": 2
}
